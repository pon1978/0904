{
 "cells": [
  {
   "cell_type": "code",
   "execution_count": 1,
   "source": [
    "import string\n"
   ],
   "outputs": [],
   "metadata": {}
  },
  {
   "cell_type": "code",
   "execution_count": 2,
   "source": [
    "cipher = 'vkhllbgzmaxknubvhglzeipcie'\n",
    "alphabet = list(string.ascii_lowercase)"
   ],
   "outputs": [],
   "metadata": {}
  },
  {
   "cell_type": "code",
   "execution_count": 3,
   "source": [
    "def shift(c, num):\n",
    "    return alphabet[(alphabet.index(c) + num) % 26]"
   ],
   "outputs": [],
   "metadata": {}
  },
  {
   "cell_type": "code",
   "execution_count": 4,
   "source": [
    "for i in range(26):\n",
    "    plain = ''\n",
    "    for c in cipher:\n",
    "        plain += shift(c, i)\n",
    "    print('picoCTF{' + plain + '}')"
   ],
   "outputs": [
    {
     "output_type": "stream",
     "name": "stdout",
     "text": [
      "picoCTF{vkhllbgzmaxknubvhglzeipcie}\n",
      "picoCTF{wlimmchanbylovcwihmafjqdjf}\n",
      "picoCTF{xmjnndiboczmpwdxjinbgkrekg}\n",
      "picoCTF{ynkooejcpdanqxeykjochlsflh}\n",
      "picoCTF{zolppfkdqeboryfzlkpdimtgmi}\n",
      "picoCTF{apmqqglerfcpszgamlqejnuhnj}\n",
      "picoCTF{bqnrrhmfsgdqtahbnmrfkoviok}\n",
      "picoCTF{crossingtherubiconsglpwjpl}\n",
      "picoCTF{dspttjohuifsvcjdpothmqxkqm}\n",
      "picoCTF{etquukpivjgtwdkeqpuinrylrn}\n",
      "picoCTF{furvvlqjwkhuxelfrqvjoszmso}\n",
      "picoCTF{gvswwmrkxlivyfmgsrwkptantp}\n",
      "picoCTF{hwtxxnslymjwzgnhtsxlqubouq}\n",
      "picoCTF{ixuyyotmznkxahoiutymrvcpvr}\n",
      "picoCTF{jyvzzpunaolybipjvuznswdqws}\n",
      "picoCTF{kzwaaqvobpmzcjqkwvaotxerxt}\n",
      "picoCTF{laxbbrwpcqnadkrlxwbpuyfsyu}\n",
      "picoCTF{mbyccsxqdrobelsmyxcqvzgtzv}\n",
      "picoCTF{nczddtyrespcfmtnzydrwahuaw}\n",
      "picoCTF{odaeeuzsftqdgnuoazesxbivbx}\n",
      "picoCTF{pebffvatgurehovpbaftycjwcy}\n",
      "picoCTF{qfcggwbuhvsfipwqcbguzdkxdz}\n",
      "picoCTF{rgdhhxcviwtgjqxrdchvaelyea}\n",
      "picoCTF{sheiiydwjxuhkrysediwbfmzfb}\n",
      "picoCTF{tifjjzexkyvilsztfejxcgnagc}\n",
      "picoCTF{ujgkkafylzwjmtaugfkydhobhd}\n"
     ]
    }
   ],
   "metadata": {}
  },
  {
   "cell_type": "code",
   "execution_count": null,
   "source": [],
   "outputs": [],
   "metadata": {}
  }
 ],
 "metadata": {
  "orig_nbformat": 4,
  "language_info": {
   "name": "python",
   "version": "3.8.8",
   "mimetype": "text/x-python",
   "codemirror_mode": {
    "name": "ipython",
    "version": 3
   },
   "pygments_lexer": "ipython3",
   "nbconvert_exporter": "python",
   "file_extension": ".py"
  },
  "kernelspec": {
   "name": "python3",
   "display_name": "Python 3.8.8 64-bit ('base': conda)"
  },
  "interpreter": {
   "hash": "4dafa36e471d509a1a88661734b7adf084597899f96235551977771974d23890"
  }
 },
 "nbformat": 4,
 "nbformat_minor": 2
}