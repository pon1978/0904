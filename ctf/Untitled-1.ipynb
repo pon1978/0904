{
 "cells": [
  {
   "cell_type": "code",
   "execution_count": 1,
   "source": [
    "import string\n"
   ],
   "outputs": [],
   "metadata": {}
  },
  {
   "cell_type": "code",
   "execution_count": 2,
   "source": [
    "cipher = '16 9 3 15 3 20 6 { 20 8 5 14 21 13 2 5 18 19 13 1 19 15 14 }'\n",
    "flag = ''"
   ],
   "outputs": [],
   "metadata": {}
  },
  {
   "cell_type": "code",
   "execution_count": 3,
   "source": [
    "for c in cipher.split():\n",
    "    if c.isnumeric():\n",
    "        flag += string.ascii_uppercase[int(c)-1]\n",
    "    else:\n",
    "        flag += c\n",
    "\n",
    "print(flag)"
   ],
   "outputs": [
    {
     "output_type": "stream",
     "name": "stdout",
     "text": [
      "PICOCTF{THENUMBERSMASON}\n"
     ]
    }
   ],
   "metadata": {}
  },
  {
   "cell_type": "code",
   "execution_count": null,
   "source": [],
   "outputs": [],
   "metadata": {}
  }
 ],
 "metadata": {
  "orig_nbformat": 4,
  "language_info": {
   "name": "python",
   "version": "3.8.8",
   "mimetype": "text/x-python",
   "codemirror_mode": {
    "name": "ipython",
    "version": 3
   },
   "pygments_lexer": "ipython3",
   "nbconvert_exporter": "python",
   "file_extension": ".py"
  },
  "kernelspec": {
   "name": "python3",
   "display_name": "Python 3.8.8 64-bit ('base': conda)"
  },
  "interpreter": {
   "hash": "4dafa36e471d509a1a88661734b7adf084597899f96235551977771974d23890"
  }
 },
 "nbformat": 4,
 "nbformat_minor": 2
}